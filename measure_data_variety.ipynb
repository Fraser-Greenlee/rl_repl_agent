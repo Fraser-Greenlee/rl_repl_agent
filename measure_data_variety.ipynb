{
 "cells": [
  {
   "cell_type": "markdown",
   "metadata": {},
   "source": [
    "### Need to measure variety of data created by PPO."
   ]
  },
  {
   "cell_type": "code",
   "execution_count": 159,
   "metadata": {},
   "outputs": [
    {
     "data": {
      "text/plain": [
       "tensor(100)"
      ]
     },
     "execution_count": 159,
     "metadata": {},
     "output_type": "execute_result"
    }
   ],
   "source": [
    "# Test Data\n",
    "\n",
    "import torch\n",
    "from _language import InputLang, OutputLang\n",
    "\n",
    "N_CHARS = len(InputLang.chars)\n",
    "\n",
    "random_chars = (N_CHARS * torch.rand(100)).int()\n",
    "\n",
    "one_char = torch.ones(100)\n",
    "\n",
    "half_and_half = torch.zeros(100)\n",
    "half_and_half[50:] = torch.ones(50)\n",
    "half_and_half[:50] = (N_CHARS * torch.rand(50)).int()\n",
    "\n",
    "three = torch.zeros(100)\n",
    "three[:30] = torch.ones(30)\n",
    "three[30:60] = 2*torch.ones(30)\n",
    "three[60:] = 4*torch.ones(40)\n",
    "\n",
    "fake_count = torch.tensor([35,  27, 17,  7,  7, 1, 0,  1, 1,  2,  1,  1,  0])\n",
    "fake_count.sum()"
   ]
  },
  {
   "cell_type": "markdown",
   "metadata": {},
   "source": [
    "### standard deviation of char count"
   ]
  },
  {
   "cell_type": "code",
   "execution_count": 141,
   "metadata": {},
   "outputs": [
    {
     "data": {
      "text/plain": [
       "(tensor(0.), tensor(1.2910), tensor(3.7340), tensor(3.6052), tensor(11.4774))"
      ]
     },
     "execution_count": 141,
     "metadata": {},
     "output_type": "execute_result"
    }
   ],
   "source": [
    "(\n",
    "    one_char.float().std(),\n",
    "    three.float().std(),\n",
    "    random_chars.float().std(),\n",
    "    half_and_half.float().std(),\n",
    "    fake_count.float().std()\n",
    ")"
   ]
  },
  {
   "cell_type": "markdown",
   "metadata": {},
   "source": [
    "### max count - min count"
   ]
  },
  {
   "cell_type": "code",
   "execution_count": 144,
   "metadata": {},
   "outputs": [
    {
     "data": {
      "text/plain": [
       "tensor(9)"
      ]
     },
     "execution_count": 144,
     "metadata": {},
     "output_type": "execute_result"
    }
   ],
   "source": [
    "random_chars.unique(return_counts=True)[1].max() - random_chars.unique(return_counts=True)[1].min()"
   ]
  },
  {
   "cell_type": "code",
   "execution_count": 143,
   "metadata": {},
   "outputs": [
    {
     "data": {
      "text/plain": [
       "tensor(10)"
      ]
     },
     "execution_count": 143,
     "metadata": {},
     "output_type": "execute_result"
    }
   ],
   "source": [
    "three.unique(return_counts=True)[1].max() - three.unique(return_counts=True)[1].min()"
   ]
  },
  {
   "cell_type": "code",
   "execution_count": 167,
   "metadata": {},
   "outputs": [
    {
     "data": {
      "text/plain": [
       "tensor(35)"
      ]
     },
     "execution_count": 167,
     "metadata": {},
     "output_type": "execute_result"
    }
   ],
   "source": [
    "fake_count.max() - fake_count.min()"
   ]
  },
  {
   "cell_type": "code",
   "execution_count": 145,
   "metadata": {},
   "outputs": [
    {
     "data": {
      "text/plain": [
       "tensor(50)"
      ]
     },
     "execution_count": 145,
     "metadata": {},
     "output_type": "execute_result"
    }
   ],
   "source": [
    "half_and_half.unique(return_counts=True)[1].max() - half_and_half.unique(return_counts=True)[1].min()"
   ]
  },
  {
   "cell_type": "markdown",
   "metadata": {},
   "source": [
    "### max count"
   ]
  },
  {
   "cell_type": "code",
   "execution_count": 169,
   "metadata": {},
   "outputs": [
    {
     "data": {
      "text/plain": [
       "(tensor(13), tensor(35), tensor(40), tensor(55))"
      ]
     },
     "execution_count": 169,
     "metadata": {},
     "output_type": "execute_result"
    }
   ],
   "source": [
    "(\n",
    "    random_chars.unique(return_counts=True)[1].max(),\n",
    "    fake_count.max(),\n",
    "    three.unique(return_counts=True)[1].max(),\n",
    "    half_and_half.unique(return_counts=True)[1].max()\n",
    ")"
   ]
  },
  {
   "cell_type": "markdown",
   "metadata": {},
   "source": [
    "### Sum top 2 counts"
   ]
  },
  {
   "cell_type": "code",
   "execution_count": 181,
   "metadata": {},
   "outputs": [
    {
     "data": {
      "text/plain": [
       "(tensor(23), tensor(62), tensor(62), tensor(70))"
      ]
     },
     "execution_count": 181,
     "metadata": {},
     "output_type": "execute_result"
    }
   ],
   "source": [
    "(\n",
    "    random_chars.unique(return_counts=True)[1].topk(2).values.sum(),\n",
    "    fake_count.topk(2).values.sum(),\n",
    "    half_and_half.unique(return_counts=True)[1].topk(2).values.sum(),\n",
    "    three.unique(return_counts=True)[1].topk(2).values.sum()\n",
    ")"
   ]
  },
  {
   "cell_type": "code",
   "execution_count": 183,
   "metadata": {},
   "outputs": [
    {
     "data": {
      "text/plain": [
       "(tensor(33), tensor(68), tensor(79), tensor(100))"
      ]
     },
     "execution_count": 183,
     "metadata": {},
     "output_type": "execute_result"
    }
   ],
   "source": [
    "(\n",
    "    random_chars.unique(return_counts=True)[1].topk(3).values.sum(),\n",
    "    half_and_half.unique(return_counts=True)[1].topk(3).values.sum(),\n",
    "    fake_count.topk(3).values.sum(),\n",
    "    three.unique(return_counts=True)[1].topk(3).values.sum()\n",
    ")"
   ]
  },
  {
   "cell_type": "markdown",
   "metadata": {},
   "source": [
    "### entropy"
   ]
  },
  {
   "cell_type": "code",
   "execution_count": 146,
   "metadata": {},
   "outputs": [],
   "source": [
    "from scipy.stats import entropy"
   ]
  },
  {
   "cell_type": "code",
   "execution_count": 215,
   "metadata": {},
   "outputs": [
    {
     "data": {
      "text/plain": [
       "(2.4568891361592278,\n",
       " 5.981557972869691,\n",
       " 6.337212874388087,\n",
       " 6.44578455096824,\n",
       " 6.643854906175126)"
      ]
     },
     "execution_count": 215,
     "metadata": {},
     "output_type": "execute_result"
    }
   ],
   "source": [
    "(\n",
    "    entropy(fake_count, base=2),\n",
    "    entropy(half_and_half, base=2),\n",
    "    entropy(random_chars, base=2),\n",
    "    entropy(three, base=2),\n",
    "    entropy(one_char, base=2),\n",
    ")"
   ]
  },
  {
   "cell_type": "markdown",
   "metadata": {},
   "source": [
    "### Impliment for batches"
   ]
  },
  {
   "cell_type": "code",
   "execution_count": 216,
   "metadata": {},
   "outputs": [],
   "source": [
    "batch = (N_CHARS * torch.rand(100, InputLang.maxlen)).int()\n",
    "batch_lens = (InputLang.maxlen * torch.rand(100)).int()"
   ]
  },
  {
   "cell_type": "code",
   "execution_count": 235,
   "metadata": {},
   "outputs": [
    {
     "data": {
      "text/plain": [
       "tensor([ 8, 12, 12,  9,  0,  7, 11, 11,  0,  1,  7,  3, 12,  4,  9,  5,  3,  4,\n",
       "         7,  9,  6,  8,  1, 12,  0,  4,  4,  3,  6, 10,  5,  4, 10,  0,  8, 10,\n",
       "         1,  0, 10,  8, 11, 11, 12,  6,  2,  4, 11,  3, 10, 10,  5,  9,  2,  9,\n",
       "         2,  3,  9,  6,  8,  1,  2,  4,  5,  0, 10,  0,  0,  4,  9,  2,  9,  0,\n",
       "        12,  0, 11,  0, 10,  7,  9,  2, 10,  4,  5, 10,  9, 11,  5, 12, 12,  2,\n",
       "         7,  7,  1,  1,  2,  8,  3,  4,  6,  7], dtype=torch.int32)"
      ]
     },
     "execution_count": 235,
     "metadata": {},
     "output_type": "execute_result"
    }
   ],
   "source": [
    "batch[:, 0]"
   ]
  },
  {
   "cell_type": "code",
   "execution_count": 237,
   "metadata": {},
   "outputs": [
    {
     "data": {
      "text/plain": [
       "(tensor([ 0,  1,  2,  3,  4,  5,  6,  7,  8,  9, 10, 11, 12], dtype=torch.int32),\n",
       " tensor([11,  6,  8,  6, 10,  6,  5,  7,  6, 10, 10,  7,  8]))"
      ]
     },
     "execution_count": 237,
     "metadata": {},
     "output_type": "execute_result"
    }
   ],
   "source": [
    "batch[:, 0].unique(return_counts=True)"
   ]
  },
  {
   "cell_type": "code",
   "execution_count": 220,
   "metadata": {},
   "outputs": [
    {
     "data": {
      "text/plain": [
       "(tensor([[ 0,  1,  5,  4,  0,  0, 12],\n",
       "         [ 0,  1,  9,  6,  3,  9,  5],\n",
       "         [ 0,  2,  0,  3,  4,  1,  2],\n",
       "         [ 0,  2, 12,  3,  1,  6,  9],\n",
       "         [ 0,  4,  2,  3,  1,  1, 11],\n",
       "         [ 0,  4,  3,  6,  6,  5,  7],\n",
       "         [ 0,  5,  1, 11, 12, 12,  9],\n",
       "         [ 0, 10,  3,  8,  1,  8,  0],\n",
       "         [ 0, 11,  0,  6, 10,  2,  2],\n",
       "         [ 0, 11,  1, 12,  1,  2,  5],\n",
       "         [ 0, 11,  3,  0, 11,  5, 11],\n",
       "         [ 1,  0, 12, 11, 11,  0, 12],\n",
       "         [ 1,  2,  7, 11,  4,  6,  8],\n",
       "         [ 1,  7, 11,  6, 12,  7,  4],\n",
       "         [ 1, 11,  6, 12,  6,  5,  9],\n",
       "         [ 1, 11,  7,  3, 11,  7, 11],\n",
       "         [ 1, 12,  7,  8,  1,  8, 10],\n",
       "         [ 2,  3, 10,  3,  5,  3,  6],\n",
       "         [ 2,  4,  0, 11, 10, 10,  3],\n",
       "         [ 2,  4,  2,  4,  8, 11, 12],\n",
       "         [ 2,  5,  0,  3,  7,  8, 11],\n",
       "         [ 2,  5,  7,  4, 12,  5,  6],\n",
       "         [ 2,  6,  6,  7,  2,  3,  3],\n",
       "         [ 2,  7,  6,  4,  3,  8,  7],\n",
       "         [ 2,  9,  0,  8,  4,  9, 12],\n",
       "         [ 3,  0,  0,  4, 11,  9,  3],\n",
       "         [ 3,  1, 11,  5,  9, 11,  7],\n",
       "         [ 3,  5,  1,  5,  0,  6,  7],\n",
       "         [ 3,  5,  6, 12,  4,  4,  8],\n",
       "         [ 3,  6,  8,  4,  5,  3, 10],\n",
       "         [ 3,  7,  9,  7, 12, 12,  6],\n",
       "         [ 4,  0, 11,  1,  1, 11,  3],\n",
       "         [ 4,  1,  5, 10,  3,  7,  4],\n",
       "         [ 4,  3,  1,  0, 11, 11,  3],\n",
       "         [ 4,  4,  5,  3,  3, 11, 11],\n",
       "         [ 4,  6,  2,  0,  5, 12,  6],\n",
       "         [ 4,  6,  7,  0,  0,  7,  8],\n",
       "         [ 4,  9,  3,  5, 12,  2,  1],\n",
       "         [ 4, 12,  3, 12,  7,  7,  8],\n",
       "         [ 4, 12,  5,  6,  3,  9,  6],\n",
       "         [ 4, 12,  6,  5,  0,  2, 11],\n",
       "         [ 5,  2,  8, 12,  3,  6,  7],\n",
       "         [ 5,  4,  6,  7, 10,  0,  5],\n",
       "         [ 5,  7,  5, 10, 12,  1,  5],\n",
       "         [ 5,  7, 12,  7,  5, 11, 10],\n",
       "         [ 5,  9,  1,  5,  3, 10, 10],\n",
       "         [ 5, 11,  1, 10, 11,  7,  2],\n",
       "         [ 6,  0,  2, 11,  7,  5,  2],\n",
       "         [ 6,  4,  9,  0,  7,  1,  9],\n",
       "         [ 6,  5,  7,  1,  5,  8,  8],\n",
       "         [ 6,  5,  7,  6,  4,  9,  2],\n",
       "         [ 6,  8, 10,  0,  8,  6,  0],\n",
       "         [ 7,  1,  3,  8,  3, 12,  6],\n",
       "         [ 7,  1,  9,  4,  9,  7,  9],\n",
       "         [ 7,  2,  2,  6,  7,  1, 12],\n",
       "         [ 7,  2, 12, 11, 12,  0,  1],\n",
       "         [ 7,  5,  2,  3,  0,  5,  5],\n",
       "         [ 7,  7,  1, 11, 11,  5, 12],\n",
       "         [ 7, 11,  7,  7,  5,  5,  8],\n",
       "         [ 8,  0,  9,  7, 11,  3,  0],\n",
       "         [ 8,  2,  1,  3,  7,  7,  5],\n",
       "         [ 8,  6,  6,  0,  5,  6,  0],\n",
       "         [ 8,  8,  1, 12,  4,  3, 10],\n",
       "         [ 8,  8,  2,  4,  1, 10,  9],\n",
       "         [ 8,  9,  7,  1,  4,  1, 12],\n",
       "         [ 9,  1, 10,  4,  5, 11,  8],\n",
       "         [ 9,  1, 11,  5, 12,  4,  8],\n",
       "         [ 9,  4,  0,  2,  1,  8, 10],\n",
       "         [ 9,  4,  1,  6,  1,  0,  6],\n",
       "         [ 9,  6, 11,  9,  5,  8, 11],\n",
       "         [ 9,  8,  9,  4,  1,  7,  4],\n",
       "         [ 9,  9,  1,  9, 11,  1,  1],\n",
       "         [ 9,  9,  3,  5, 11,  0, 10],\n",
       "         [ 9, 12, 10,  3,  3,  0,  0],\n",
       "         [ 9, 12, 11,  8,  7,  2,  0],\n",
       "         [10,  0,  8,  7,  3, 11, 11],\n",
       "         [10,  1,  1,  2,  2, 12,  1],\n",
       "         [10,  3,  7,  2,  6, 12, 10],\n",
       "         [10,  6,  4,  2,  3,  7,  8],\n",
       "         [10,  8,  9,  4,  3,  2,  4],\n",
       "         [10,  9, 10,  5,  7,  2,  7],\n",
       "         [10, 10,  3,  0,  3,  0,  2],\n",
       "         [10, 11,  2,  6,  6,  0,  2],\n",
       "         [10, 12,  6,  3, 12, 10,  4],\n",
       "         [10, 12,  9,  4,  2,  7,  4],\n",
       "         [11,  2,  8,  2,  9, 12,  1],\n",
       "         [11,  5,  8,  1,  2,  3,  1],\n",
       "         [11,  6, 10,  9,  4,  2,  8],\n",
       "         [11,  6, 12,  3,  7,  5,  7],\n",
       "         [11,  7,  5,  6,  4,  7,  8],\n",
       "         [11,  9,  7,  6,  7, 10,  2],\n",
       "         [11,  9,  8,  1,  2,  4, 12],\n",
       "         [12,  2,  9,  4,  1, 10,  1],\n",
       "         [12,  4,  3,  1, 11,  6,  2],\n",
       "         [12,  4, 12,  2,  3,  9,  3],\n",
       "         [12,  8, 11,  0,  4,  2, 11],\n",
       "         [12, 11,  4,  2,  4,  3, 10],\n",
       "         [12, 12,  6,  5,  8,  5,  3],\n",
       "         [12, 12,  6,  5, 11,  1,  7],\n",
       "         [12, 12,  7,  7,  5,  8, 11]], dtype=torch.int32),\n",
       " tensor([1, 1, 1, 1, 1, 1, 1, 1, 1, 1, 1, 1, 1, 1, 1, 1, 1, 1, 1, 1, 1, 1, 1, 1,\n",
       "         1, 1, 1, 1, 1, 1, 1, 1, 1, 1, 1, 1, 1, 1, 1, 1, 1, 1, 1, 1, 1, 1, 1, 1,\n",
       "         1, 1, 1, 1, 1, 1, 1, 1, 1, 1, 1, 1, 1, 1, 1, 1, 1, 1, 1, 1, 1, 1, 1, 1,\n",
       "         1, 1, 1, 1, 1, 1, 1, 1, 1, 1, 1, 1, 1, 1, 1, 1, 1, 1, 1, 1, 1, 1, 1, 1,\n",
       "         1, 1, 1, 1]))"
      ]
     },
     "execution_count": 220,
     "metadata": {},
     "output_type": "execute_result"
    }
   ],
   "source": [
    "batch.unique(return_counts=True, dim=0)"
   ]
  },
  {
   "cell_type": "code",
   "execution_count": 224,
   "metadata": {},
   "outputs": [],
   "source": [
    "bu, bc = batch.unique(return_counts=True, dim=0)"
   ]
  },
  {
   "cell_type": "code",
   "execution_count": 236,
   "metadata": {},
   "outputs": [
    {
     "data": {
      "text/plain": [
       "(tensor([ 0,  1,  2,  3,  4,  5,  6,  7,  8,  9, 10, 11, 12], dtype=torch.int32),\n",
       " tensor([11,  6,  8,  6, 10,  6,  5,  7,  6, 10, 10,  7,  8]))"
      ]
     },
     "execution_count": 236,
     "metadata": {},
     "output_type": "execute_result"
    }
   ],
   "source": [
    "bu[:,0].unique(return_counts=True)"
   ]
  },
  {
   "cell_type": "code",
   "execution_count": 233,
   "metadata": {},
   "outputs": [
    {
     "data": {
      "text/plain": [
       "tensor([0, 0, 0, 0, 0, 0, 0, 0, 0, 0, 0], dtype=torch.int32)"
      ]
     },
     "execution_count": 233,
     "metadata": {},
     "output_type": "execute_result"
    }
   ],
   "source": [
    "bu[:,0][:11]"
   ]
  },
  {
   "cell_type": "code",
   "execution_count": 214,
   "metadata": {},
   "outputs": [
    {
     "name": "stdout",
     "output_type": "stream",
     "text": [
      "Help on function unique in module torch.functional:\n",
      "\n",
      "unique(input, sorted=True, return_inverse=False, return_counts=False, dim=None)\n",
      "    Returns the unique elements of the input tensor.\n",
      "    \n",
      "    Arguments:\n",
      "        input (Tensor): the input tensor\n",
      "        sorted (bool): Whether to sort the unique elements in ascending order\n",
      "            before returning as output.\n",
      "        return_inverse (bool): Whether to also return the indices for where\n",
      "            elements in the original input ended up in the returned unique list.\n",
      "        return_counts (bool): Whether to also return the counts for each unique\n",
      "            element.\n",
      "        dim (int): the dimension to apply unique. If ``None``, the unique of the\n",
      "            flattened input is returned. default: ``None``\n",
      "    \n",
      "    Returns:\n",
      "        (Tensor, Tensor (optional), Tensor (optional)): A tensor or a tuple of tensors containing\n",
      "    \n",
      "            - **output** (*Tensor*): the output list of unique scalar elements.\n",
      "            - **inverse_indices** (*Tensor*): (optional) if\n",
      "              :attr:`return_inverse` is True, there will be an additional\n",
      "              returned tensor (same shape as input) representing the indices\n",
      "              for where elements in the original input map to in the output;\n",
      "              otherwise, this function will only return a single tensor.\n",
      "            - **counts** (*Tensor*): (optional) if\n",
      "              :attr:`return_counts` is True, there will be an additional\n",
      "              returned tensor (same shape as output or output.size(dim),\n",
      "              if dim was specified) representing the number of occurrences\n",
      "              for each unique value or tensor.\n",
      "    \n",
      "    Example::\n",
      "    \n",
      "        >>> output = torch.unique(torch.tensor([1, 3, 2, 3], dtype=torch.long))\n",
      "        >>> output\n",
      "        tensor([ 2,  3,  1])\n",
      "    \n",
      "        >>> output, inverse_indices = torch.unique(\n",
      "                torch.tensor([1, 3, 2, 3], dtype=torch.long), sorted=True, return_inverse=True)\n",
      "        >>> output\n",
      "        tensor([ 1,  2,  3])\n",
      "        >>> inverse_indices\n",
      "        tensor([ 0,  2,  1,  2])\n",
      "    \n",
      "        >>> output, inverse_indices = torch.unique(\n",
      "                torch.tensor([[1, 3], [2, 3]], dtype=torch.long), sorted=True, return_inverse=True)\n",
      "        >>> output\n",
      "        tensor([ 1,  2,  3])\n",
      "        >>> inverse_indices\n",
      "        tensor([[ 0,  2],\n",
      "                [ 1,  2]])\n",
      "\n"
     ]
    }
   ],
   "source": [
    "help(torch.unique)"
   ]
  },
  {
   "cell_type": "code",
   "execution_count": 239,
   "metadata": {},
   "outputs": [
    {
     "data": {
      "text/plain": [
       "_language.InputLang"
      ]
     },
     "execution_count": 239,
     "metadata": {},
     "output_type": "execute_result"
    }
   ],
   "source": [
    "InputLang"
   ]
  },
  {
   "cell_type": "code",
   "execution_count": 243,
   "metadata": {},
   "outputs": [
    {
     "data": {
      "text/plain": [
       "'11'"
      ]
     },
     "execution_count": 243,
     "metadata": {},
     "output_type": "execute_result"
    }
   ],
   "source": [
    "InputLang.tensor_to_str(torch.ones(3), torch.tensor([2]))"
   ]
  },
  {
   "cell_type": "code",
   "execution_count": null,
   "metadata": {},
   "outputs": [],
   "source": []
  }
 ],
 "metadata": {
  "kernelspec": {
   "display_name": "Python 3",
   "language": "python",
   "name": "python3"
  },
  "language_info": {
   "codemirror_mode": {
    "name": "ipython",
    "version": 3
   },
   "file_extension": ".py",
   "mimetype": "text/x-python",
   "name": "python",
   "nbconvert_exporter": "python",
   "pygments_lexer": "ipython3",
   "version": "3.7.4"
  }
 },
 "nbformat": 4,
 "nbformat_minor": 4
}
