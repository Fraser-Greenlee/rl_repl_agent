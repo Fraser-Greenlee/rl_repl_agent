{
 "cells": [
  {
   "cell_type": "markdown",
   "metadata": {},
   "source": [
    "## Trying to make semantic encoder from PPO Actor"
   ]
  },
  {
   "cell_type": "code",
   "execution_count": 1,
   "metadata": {},
   "outputs": [],
   "source": [
    "import torch\n",
    "\n",
    "from _memory import Memory\n",
    "from _ppo import PPO\n",
    "from _constants import (\n",
    "    STATE_DIM,\n",
    "    ACTION_DIM,\n",
    "    N_LATENT_VARS,\n",
    "    LEARNING_RATE,\n",
    "    BETAS,\n",
    "    GAMMA,\n",
    "    K_EPOCHS,\n",
    "    EPS_CLIP\n",
    ")"
   ]
  },
  {
   "cell_type": "code",
   "execution_count": 2,
   "metadata": {},
   "outputs": [],
   "source": [
    "INPUT_CODE = '1-1'\n",
    "MODEL_PATH = 'models/PPO-RND_good_run.pth'"
   ]
  },
  {
   "cell_type": "code",
   "execution_count": 3,
   "metadata": {},
   "outputs": [],
   "source": [
    "memory = Memory()\n",
    "ppo = PPO(STATE_DIM, ACTION_DIM, N_LATENT_VARS, LEARNING_RATE, BETAS, GAMMA, K_EPOCHS, EPS_CLIP)\n",
    "ppo.policy_old.load_state_dict(torch.load(MODEL_PATH))"
   ]
  },
  {
   "cell_type": "code",
   "execution_count": 5,
   "metadata": {},
   "outputs": [
    {
     "data": {
      "text/plain": [
       "Sequential(\n",
       "  (0): Linear(in_features=130, out_features=64, bias=True)\n",
       "  (1): Tanh()\n",
       "  (2): Linear(in_features=64, out_features=64, bias=True)\n",
       "  (3): Tanh()\n",
       "  (4): Linear(in_features=64, out_features=4, bias=True)\n",
       "  (5): Softmax()\n",
       ")"
      ]
     },
     "execution_count": 5,
     "metadata": {},
     "output_type": "execute_result"
    }
   ],
   "source": [
    "ppo.policy_old.action_layer"
   ]
  },
  {
   "cell_type": "code",
   "execution_count": null,
   "metadata": {},
   "outputs": [],
   "source": []
  }
 ],
 "metadata": {
  "kernelspec": {
   "display_name": "Python 3",
   "language": "python",
   "name": "python3"
  },
  "language_info": {
   "codemirror_mode": {
    "name": "ipython",
    "version": 3
   },
   "file_extension": ".py",
   "mimetype": "text/x-python",
   "name": "python",
   "nbconvert_exporter": "python",
   "pygments_lexer": "ipython3",
   "version": "3.7.3"
  }
 },
 "nbformat": 4,
 "nbformat_minor": 2
}
